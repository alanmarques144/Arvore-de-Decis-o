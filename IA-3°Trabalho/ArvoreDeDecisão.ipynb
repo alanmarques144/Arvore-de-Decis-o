{
 "cells": [
  {
   "cell_type": "code",
   "execution_count": 3,
   "id": "68fba5dd",
   "metadata": {},
   "outputs": [
    {
     "data": {
      "text/html": [
       "<div>\n",
       "<style scoped>\n",
       "    .dataframe tbody tr th:only-of-type {\n",
       "        vertical-align: middle;\n",
       "    }\n",
       "\n",
       "    .dataframe tbody tr th {\n",
       "        vertical-align: top;\n",
       "    }\n",
       "\n",
       "    .dataframe thead th {\n",
       "        text-align: right;\n",
       "    }\n",
       "</style>\n",
       "<table border=\"1\" class=\"dataframe\">\n",
       "  <thead>\n",
       "    <tr style=\"text-align: right;\">\n",
       "      <th></th>\n",
       "      <th>Id</th>\n",
       "      <th>Idade</th>\n",
       "      <th>Altura</th>\n",
       "      <th>Tecnica</th>\n",
       "      <th>Passe</th>\n",
       "      <th>Chute</th>\n",
       "      <th>Forca</th>\n",
       "      <th>Velocidade</th>\n",
       "      <th>Drible</th>\n",
       "      <th>Classe</th>\n",
       "    </tr>\n",
       "  </thead>\n",
       "  <tbody>\n",
       "    <tr>\n",
       "      <th>0</th>\n",
       "      <td>1</td>\n",
       "      <td>17</td>\n",
       "      <td>177</td>\n",
       "      <td>72</td>\n",
       "      <td>65</td>\n",
       "      <td>72</td>\n",
       "      <td>60</td>\n",
       "      <td>84</td>\n",
       "      <td>81</td>\n",
       "      <td>Atacante</td>\n",
       "    </tr>\n",
       "    <tr>\n",
       "      <th>1</th>\n",
       "      <td>2</td>\n",
       "      <td>18</td>\n",
       "      <td>188</td>\n",
       "      <td>63</td>\n",
       "      <td>65</td>\n",
       "      <td>55</td>\n",
       "      <td>70</td>\n",
       "      <td>72</td>\n",
       "      <td>60</td>\n",
       "      <td>Defensor</td>\n",
       "    </tr>\n",
       "    <tr>\n",
       "      <th>2</th>\n",
       "      <td>3</td>\n",
       "      <td>18</td>\n",
       "      <td>190</td>\n",
       "      <td>63</td>\n",
       "      <td>65</td>\n",
       "      <td>67</td>\n",
       "      <td>70</td>\n",
       "      <td>72</td>\n",
       "      <td>66</td>\n",
       "      <td>Atacante</td>\n",
       "    </tr>\n",
       "    <tr>\n",
       "      <th>3</th>\n",
       "      <td>4</td>\n",
       "      <td>19</td>\n",
       "      <td>165</td>\n",
       "      <td>65</td>\n",
       "      <td>62</td>\n",
       "      <td>71</td>\n",
       "      <td>62</td>\n",
       "      <td>70</td>\n",
       "      <td>67</td>\n",
       "      <td>Atacante</td>\n",
       "    </tr>\n",
       "    <tr>\n",
       "      <th>4</th>\n",
       "      <td>5</td>\n",
       "      <td>19</td>\n",
       "      <td>174</td>\n",
       "      <td>67</td>\n",
       "      <td>66</td>\n",
       "      <td>69</td>\n",
       "      <td>64</td>\n",
       "      <td>76</td>\n",
       "      <td>74</td>\n",
       "      <td>Atacante</td>\n",
       "    </tr>\n",
       "  </tbody>\n",
       "</table>\n",
       "</div>"
      ],
      "text/plain": [
       "   Id  Idade  Altura  Tecnica  Passe  Chute  Forca  Velocidade  Drible  \\\n",
       "0   1     17     177       72     65     72     60          84      81   \n",
       "1   2     18     188       63     65     55     70          72      60   \n",
       "2   3     18     190       63     65     67     70          72      66   \n",
       "3   4     19     165       65     62     71     62          70      67   \n",
       "4   5     19     174       67     66     69     64          76      74   \n",
       "\n",
       "     Classe  \n",
       "0  Atacante  \n",
       "1  Defensor  \n",
       "2  Atacante  \n",
       "3  Atacante  \n",
       "4  Atacante  "
      ]
     },
     "execution_count": 3,
     "metadata": {},
     "output_type": "execute_result"
    }
   ],
   "source": [
    "import pandas as pd\n",
    "base = pd.read_csv('jogadores.csv',sep = ';')\n",
    "base.head()\n",
    "\n"
   ]
  },
  {
   "cell_type": "code",
   "execution_count": 4,
   "id": "feda0e73",
   "metadata": {},
   "outputs": [
    {
     "data": {
      "text/html": [
       "<div>\n",
       "<style scoped>\n",
       "    .dataframe tbody tr th:only-of-type {\n",
       "        vertical-align: middle;\n",
       "    }\n",
       "\n",
       "    .dataframe tbody tr th {\n",
       "        vertical-align: top;\n",
       "    }\n",
       "\n",
       "    .dataframe thead th {\n",
       "        text-align: right;\n",
       "    }\n",
       "</style>\n",
       "<table border=\"1\" class=\"dataframe\">\n",
       "  <thead>\n",
       "    <tr style=\"text-align: right;\">\n",
       "      <th></th>\n",
       "      <th>Id</th>\n",
       "      <th>Idade</th>\n",
       "      <th>Altura</th>\n",
       "      <th>Tecnica</th>\n",
       "      <th>Passe</th>\n",
       "      <th>Chute</th>\n",
       "      <th>Forca</th>\n",
       "      <th>Velocidade</th>\n",
       "      <th>Drible</th>\n",
       "      <th>Classe</th>\n",
       "    </tr>\n",
       "  </thead>\n",
       "  <tbody>\n",
       "    <tr>\n",
       "      <th>0</th>\n",
       "      <td>201</td>\n",
       "      <td>19</td>\n",
       "      <td>186</td>\n",
       "      <td>71</td>\n",
       "      <td>67</td>\n",
       "      <td>52</td>\n",
       "      <td>77</td>\n",
       "      <td>75</td>\n",
       "      <td>65</td>\n",
       "      <td>NaN</td>\n",
       "    </tr>\n",
       "    <tr>\n",
       "      <th>1</th>\n",
       "      <td>202</td>\n",
       "      <td>19</td>\n",
       "      <td>175</td>\n",
       "      <td>65</td>\n",
       "      <td>63</td>\n",
       "      <td>66</td>\n",
       "      <td>60</td>\n",
       "      <td>82</td>\n",
       "      <td>70</td>\n",
       "      <td>NaN</td>\n",
       "    </tr>\n",
       "    <tr>\n",
       "      <th>2</th>\n",
       "      <td>203</td>\n",
       "      <td>20</td>\n",
       "      <td>181</td>\n",
       "      <td>64</td>\n",
       "      <td>64</td>\n",
       "      <td>67</td>\n",
       "      <td>70</td>\n",
       "      <td>67</td>\n",
       "      <td>68</td>\n",
       "      <td>NaN</td>\n",
       "    </tr>\n",
       "    <tr>\n",
       "      <th>3</th>\n",
       "      <td>204</td>\n",
       "      <td>20</td>\n",
       "      <td>170</td>\n",
       "      <td>69</td>\n",
       "      <td>66</td>\n",
       "      <td>70</td>\n",
       "      <td>62</td>\n",
       "      <td>76</td>\n",
       "      <td>75</td>\n",
       "      <td>NaN</td>\n",
       "    </tr>\n",
       "    <tr>\n",
       "      <th>4</th>\n",
       "      <td>205</td>\n",
       "      <td>21</td>\n",
       "      <td>176</td>\n",
       "      <td>66</td>\n",
       "      <td>61</td>\n",
       "      <td>68</td>\n",
       "      <td>65</td>\n",
       "      <td>75</td>\n",
       "      <td>72</td>\n",
       "      <td>NaN</td>\n",
       "    </tr>\n",
       "  </tbody>\n",
       "</table>\n",
       "</div>"
      ],
      "text/plain": [
       "    Id  Idade  Altura  Tecnica  Passe  Chute  Forca  Velocidade  Drible  \\\n",
       "0  201     19     186       71     67     52     77          75      65   \n",
       "1  202     19     175       65     63     66     60          82      70   \n",
       "2  203     20     181       64     64     67     70          67      68   \n",
       "3  204     20     170       69     66     70     62          76      75   \n",
       "4  205     21     176       66     61     68     65          75      72   \n",
       "\n",
       "   Classe  \n",
       "0     NaN  \n",
       "1     NaN  \n",
       "2     NaN  \n",
       "3     NaN  \n",
       "4     NaN  "
      ]
     },
     "execution_count": 4,
     "metadata": {},
     "output_type": "execute_result"
    }
   ],
   "source": [
    "base_validacao = pd.read_csv('validacao.csv',sep = ';')\n",
    "base_validacao.head()"
   ]
  },
  {
   "cell_type": "code",
   "execution_count": 5,
   "id": "f4ee30f4",
   "metadata": {},
   "outputs": [
    {
     "data": {
      "text/plain": [
       "array(['Atacante', 'Defensor'], dtype=object)"
      ]
     },
     "execution_count": 5,
     "metadata": {},
     "output_type": "execute_result"
    }
   ],
   "source": [
    "base['Classe'].unique()"
   ]
  },
  {
   "cell_type": "code",
   "execution_count": 6,
   "id": "c9a564ac",
   "metadata": {},
   "outputs": [
    {
     "data": {
      "text/plain": [
       "(120, 10)"
      ]
     },
     "execution_count": 6,
     "metadata": {},
     "output_type": "execute_result"
    }
   ],
   "source": [
    "base.shape"
   ]
  },
  {
   "cell_type": "code",
   "execution_count": 7,
   "id": "0e3a799e",
   "metadata": {},
   "outputs": [],
   "source": [
    "x_previsores = base.iloc[:,0:9].values\n",
    "y_classe = base.iloc[:,9].values\n",
    "x_valida = base_validacao.iloc[:,0:9].values\n",
    "y_valida = base_validacao.iloc[:,9].values"
   ]
  },
  {
   "cell_type": "code",
   "execution_count": 8,
   "id": "b3774589",
   "metadata": {},
   "outputs": [
    {
     "data": {
      "text/plain": [
       "array([[  1,  17, 177, ...,  60,  84,  81],\n",
       "       [  2,  18, 188, ...,  70,  72,  60],\n",
       "       [  3,  18, 190, ...,  70,  72,  66],\n",
       "       ...,\n",
       "       [118,  36, 187, ...,  84,  66,  62],\n",
       "       [119,  38, 180, ...,  79,  65,  64],\n",
       "       [120,  38, 192, ...,  84,  70,  65]], dtype=int64)"
      ]
     },
     "execution_count": 8,
     "metadata": {},
     "output_type": "execute_result"
    }
   ],
   "source": [
    "x_previsores"
   ]
  },
  {
   "cell_type": "code",
   "execution_count": 9,
   "id": "383804a6",
   "metadata": {},
   "outputs": [
    {
     "data": {
      "text/plain": [
       "array(['Atacante', 'Defensor', 'Atacante', 'Atacante', 'Atacante',\n",
       "       'Defensor', 'Atacante', 'Defensor', 'Atacante', 'Atacante',\n",
       "       'Atacante', 'Atacante', 'Defensor', 'Defensor', 'Defensor',\n",
       "       'Defensor', 'Defensor', 'Defensor', 'Atacante', 'Atacante',\n",
       "       'Atacante', 'Defensor', 'Atacante', 'Defensor', 'Atacante',\n",
       "       'Defensor', 'Atacante', 'Defensor', 'Defensor', 'Atacante',\n",
       "       'Atacante', 'Atacante', 'Defensor', 'Defensor', 'Atacante',\n",
       "       'Defensor', 'Defensor', 'Defensor', 'Defensor', 'Defensor',\n",
       "       'Defensor', 'Atacante', 'Atacante', 'Atacante', 'Atacante',\n",
       "       'Defensor', 'Defensor', 'Atacante', 'Atacante', 'Atacante',\n",
       "       'Atacante', 'Atacante', 'Atacante', 'Defensor', 'Defensor',\n",
       "       'Atacante', 'Defensor', 'Defensor', 'Defensor', 'Atacante',\n",
       "       'Atacante', 'Atacante', 'Atacante', 'Defensor', 'Defensor',\n",
       "       'Atacante', 'Defensor', 'Atacante', 'Defensor', 'Atacante',\n",
       "       'Atacante', 'Atacante', 'Atacante', 'Defensor', 'Atacante',\n",
       "       'Defensor', 'Defensor', 'Defensor', 'Defensor', 'Atacante',\n",
       "       'Atacante', 'Defensor', 'Defensor', 'Atacante', 'Atacante',\n",
       "       'Defensor', 'Atacante', 'Defensor', 'Defensor', 'Defensor',\n",
       "       'Defensor', 'Defensor', 'Atacante', 'Atacante', 'Atacante',\n",
       "       'Atacante', 'Atacante', 'Defensor', 'Defensor', 'Defensor',\n",
       "       'Defensor', 'Defensor', 'Defensor', 'Defensor', 'Atacante',\n",
       "       'Atacante', 'Atacante', 'Defensor', 'Atacante', 'Atacante',\n",
       "       'Atacante', 'Atacante', 'Atacante', 'Defensor', 'Atacante',\n",
       "       'Atacante', 'Atacante', 'Defensor', 'Defensor', 'Defensor'],\n",
       "      dtype=object)"
      ]
     },
     "execution_count": 9,
     "metadata": {},
     "output_type": "execute_result"
    }
   ],
   "source": [
    "y_classe"
   ]
  },
  {
   "cell_type": "code",
   "execution_count": 10,
   "id": "9f4469af",
   "metadata": {},
   "outputs": [],
   "source": [
    "from sklearn.preprocessing import StandardScaler\n",
    "scaler_x = StandardScaler()\n",
    "x_previsores = scaler_x.fit_transform(x_previsores)\n",
    "\n",
    "scaler_x2 = StandardScaler()\n",
    "x_valida = scaler_x2.fit_transform(x_valida)"
   ]
  },
  {
   "cell_type": "code",
   "execution_count": 11,
   "id": "37fc26f9",
   "metadata": {},
   "outputs": [
    {
     "data": {
      "text/plain": [
       "(array([-1.71767669, -1.77372044, -0.7484356 ,  0.2848757 , -0.50738745,\n",
       "         0.820551  , -1.88428658,  1.48656085,  1.58785421]),\n",
       " array([-1.67524673, -1.30553554,  0.9459053 ,  0.30196795, -0.02386596,\n",
       "        -1.28490834,  0.66923657, -0.02298547, -0.66102441]))"
      ]
     },
     "execution_count": 11,
     "metadata": {},
     "output_type": "execute_result"
    }
   ],
   "source": [
    "x_previsores[0], x_valida[0]"
   ]
  },
  {
   "cell_type": "code",
   "execution_count": 12,
   "id": "dc84a534",
   "metadata": {},
   "outputs": [],
   "source": [
    "from sklearn.model_selection import train_test_split\n",
    "x_treinamento, x_teste, y_treinamento, y_teste = train_test_split(x_previsores, y_classe, test_size = 0.3)"
   ]
  },
  {
   "cell_type": "code",
   "execution_count": 13,
   "id": "6cc3e550",
   "metadata": {},
   "outputs": [
    {
     "data": {
      "text/plain": [
       "(84, 9)"
      ]
     },
     "execution_count": 13,
     "metadata": {},
     "output_type": "execute_result"
    }
   ],
   "source": [
    "x_treinamento.shape"
   ]
  },
  {
   "cell_type": "code",
   "execution_count": 14,
   "id": "fa316a51",
   "metadata": {},
   "outputs": [
    {
     "data": {
      "text/plain": [
       "(84,)"
      ]
     },
     "execution_count": 14,
     "metadata": {},
     "output_type": "execute_result"
    }
   ],
   "source": [
    "y_treinamento.shape"
   ]
  },
  {
   "cell_type": "code",
   "execution_count": 15,
   "id": "f144c724",
   "metadata": {},
   "outputs": [
    {
     "data": {
      "text/plain": [
       "(36, 9)"
      ]
     },
     "execution_count": 15,
     "metadata": {},
     "output_type": "execute_result"
    }
   ],
   "source": [
    "x_teste.shape"
   ]
  },
  {
   "cell_type": "code",
   "execution_count": 16,
   "id": "c27b1a30",
   "metadata": {},
   "outputs": [
    {
     "data": {
      "text/plain": [
       "(36,)"
      ]
     },
     "execution_count": 16,
     "metadata": {},
     "output_type": "execute_result"
    }
   ],
   "source": [
    "y_teste.shape"
   ]
  },
  {
   "cell_type": "code",
   "execution_count": 17,
   "id": "a0294316",
   "metadata": {},
   "outputs": [
    {
     "data": {
      "text/html": [
       "<style>#sk-container-id-1 {color: black;background-color: white;}#sk-container-id-1 pre{padding: 0;}#sk-container-id-1 div.sk-toggleable {background-color: white;}#sk-container-id-1 label.sk-toggleable__label {cursor: pointer;display: block;width: 100%;margin-bottom: 0;padding: 0.3em;box-sizing: border-box;text-align: center;}#sk-container-id-1 label.sk-toggleable__label-arrow:before {content: \"▸\";float: left;margin-right: 0.25em;color: #696969;}#sk-container-id-1 label.sk-toggleable__label-arrow:hover:before {color: black;}#sk-container-id-1 div.sk-estimator:hover label.sk-toggleable__label-arrow:before {color: black;}#sk-container-id-1 div.sk-toggleable__content {max-height: 0;max-width: 0;overflow: hidden;text-align: left;background-color: #f0f8ff;}#sk-container-id-1 div.sk-toggleable__content pre {margin: 0.2em;color: black;border-radius: 0.25em;background-color: #f0f8ff;}#sk-container-id-1 input.sk-toggleable__control:checked~div.sk-toggleable__content {max-height: 200px;max-width: 100%;overflow: auto;}#sk-container-id-1 input.sk-toggleable__control:checked~label.sk-toggleable__label-arrow:before {content: \"▾\";}#sk-container-id-1 div.sk-estimator input.sk-toggleable__control:checked~label.sk-toggleable__label {background-color: #d4ebff;}#sk-container-id-1 div.sk-label input.sk-toggleable__control:checked~label.sk-toggleable__label {background-color: #d4ebff;}#sk-container-id-1 input.sk-hidden--visually {border: 0;clip: rect(1px 1px 1px 1px);clip: rect(1px, 1px, 1px, 1px);height: 1px;margin: -1px;overflow: hidden;padding: 0;position: absolute;width: 1px;}#sk-container-id-1 div.sk-estimator {font-family: monospace;background-color: #f0f8ff;border: 1px dotted black;border-radius: 0.25em;box-sizing: border-box;margin-bottom: 0.5em;}#sk-container-id-1 div.sk-estimator:hover {background-color: #d4ebff;}#sk-container-id-1 div.sk-parallel-item::after {content: \"\";width: 100%;border-bottom: 1px solid gray;flex-grow: 1;}#sk-container-id-1 div.sk-label:hover label.sk-toggleable__label {background-color: #d4ebff;}#sk-container-id-1 div.sk-serial::before {content: \"\";position: absolute;border-left: 1px solid gray;box-sizing: border-box;top: 0;bottom: 0;left: 50%;z-index: 0;}#sk-container-id-1 div.sk-serial {display: flex;flex-direction: column;align-items: center;background-color: white;padding-right: 0.2em;padding-left: 0.2em;position: relative;}#sk-container-id-1 div.sk-item {position: relative;z-index: 1;}#sk-container-id-1 div.sk-parallel {display: flex;align-items: stretch;justify-content: center;background-color: white;position: relative;}#sk-container-id-1 div.sk-item::before, #sk-container-id-1 div.sk-parallel-item::before {content: \"\";position: absolute;border-left: 1px solid gray;box-sizing: border-box;top: 0;bottom: 0;left: 50%;z-index: -1;}#sk-container-id-1 div.sk-parallel-item {display: flex;flex-direction: column;z-index: 1;position: relative;background-color: white;}#sk-container-id-1 div.sk-parallel-item:first-child::after {align-self: flex-end;width: 50%;}#sk-container-id-1 div.sk-parallel-item:last-child::after {align-self: flex-start;width: 50%;}#sk-container-id-1 div.sk-parallel-item:only-child::after {width: 0;}#sk-container-id-1 div.sk-dashed-wrapped {border: 1px dashed gray;margin: 0 0.4em 0.5em 0.4em;box-sizing: border-box;padding-bottom: 0.4em;background-color: white;}#sk-container-id-1 div.sk-label label {font-family: monospace;font-weight: bold;display: inline-block;line-height: 1.2em;}#sk-container-id-1 div.sk-label-container {text-align: center;}#sk-container-id-1 div.sk-container {/* jupyter's `normalize.less` sets `[hidden] { display: none; }` but bootstrap.min.css set `[hidden] { display: none !important; }` so we also need the `!important` here to be able to override the default hidden behavior on the sphinx rendered scikit-learn.org. See: https://github.com/scikit-learn/scikit-learn/issues/21755 */display: inline-block !important;position: relative;}#sk-container-id-1 div.sk-text-repr-fallback {display: none;}</style><div id=\"sk-container-id-1\" class=\"sk-top-container\"><div class=\"sk-text-repr-fallback\"><pre>DecisionTreeClassifier(random_state=0)</pre><b>In a Jupyter environment, please rerun this cell to show the HTML representation or trust the notebook. <br />On GitHub, the HTML representation is unable to render, please try loading this page with nbviewer.org.</b></div><div class=\"sk-container\" hidden><div class=\"sk-item\"><div class=\"sk-estimator sk-toggleable\"><input class=\"sk-toggleable__control sk-hidden--visually\" id=\"sk-estimator-id-1\" type=\"checkbox\" checked><label for=\"sk-estimator-id-1\" class=\"sk-toggleable__label sk-toggleable__label-arrow\">DecisionTreeClassifier</label><div class=\"sk-toggleable__content\"><pre>DecisionTreeClassifier(random_state=0)</pre></div></div></div></div></div>"
      ],
      "text/plain": [
       "DecisionTreeClassifier(random_state=0)"
      ]
     },
     "execution_count": 17,
     "metadata": {},
     "output_type": "execute_result"
    }
   ],
   "source": [
    "from sklearn.tree import DecisionTreeClassifier\n",
    "classificador = DecisionTreeClassifier(random_state=0)\n",
    "classificador.fit(x_treinamento , y_treinamento)\n"
   ]
  },
  {
   "cell_type": "code",
   "execution_count": 18,
   "id": "1bc02074",
   "metadata": {},
   "outputs": [],
   "source": [
    "previsoes = classificador.predict(x_teste)"
   ]
  },
  {
   "cell_type": "code",
   "execution_count": 19,
   "id": "96cd5501",
   "metadata": {},
   "outputs": [
    {
     "data": {
      "text/plain": [
       "array(['Defensor', 'Atacante', 'Atacante', 'Defensor', 'Atacante',\n",
       "       'Atacante', 'Atacante', 'Defensor', 'Atacante', 'Defensor',\n",
       "       'Atacante', 'Atacante', 'Defensor', 'Atacante', 'Atacante',\n",
       "       'Atacante', 'Defensor', 'Defensor', 'Defensor', 'Defensor',\n",
       "       'Defensor', 'Atacante', 'Defensor', 'Defensor', 'Atacante',\n",
       "       'Defensor', 'Defensor', 'Defensor', 'Defensor', 'Defensor',\n",
       "       'Defensor', 'Atacante', 'Atacante', 'Defensor', 'Atacante',\n",
       "       'Atacante'], dtype=object)"
      ]
     },
     "execution_count": 19,
     "metadata": {},
     "output_type": "execute_result"
    }
   ],
   "source": [
    "previsoes"
   ]
  },
  {
   "cell_type": "code",
   "execution_count": 20,
   "id": "b04e944b",
   "metadata": {},
   "outputs": [
    {
     "data": {
      "text/plain": [
       "array(['Defensor', 'Atacante', 'Atacante', 'Defensor', 'Atacante',\n",
       "       'Atacante', 'Atacante', 'Defensor', 'Atacante', 'Defensor',\n",
       "       'Atacante', 'Atacante', 'Defensor', 'Atacante', 'Atacante',\n",
       "       'Atacante', 'Defensor', 'Defensor', 'Defensor', 'Defensor',\n",
       "       'Defensor', 'Atacante', 'Defensor', 'Defensor', 'Atacante',\n",
       "       'Defensor', 'Defensor', 'Defensor', 'Defensor', 'Defensor',\n",
       "       'Defensor', 'Atacante', 'Atacante', 'Defensor', 'Atacante',\n",
       "       'Atacante'], dtype=object)"
      ]
     },
     "execution_count": 20,
     "metadata": {},
     "output_type": "execute_result"
    }
   ],
   "source": [
    "y_teste"
   ]
  },
  {
   "cell_type": "code",
   "execution_count": 21,
   "id": "32f2f790",
   "metadata": {},
   "outputs": [
    {
     "name": "stdout",
     "output_type": "stream",
     "text": [
      "              precision    recall  f1-score   support\n",
      "\n",
      "    Atacante       1.00      1.00      1.00        17\n",
      "    Defensor       1.00      1.00      1.00        19\n",
      "\n",
      "    accuracy                           1.00        36\n",
      "   macro avg       1.00      1.00      1.00        36\n",
      "weighted avg       1.00      1.00      1.00        36\n",
      "\n"
     ]
    }
   ],
   "source": [
    "from sklearn.metrics import classification_report # metricas de validação\n",
    "\n",
    "print(classification_report(y_teste, previsoes))\n",
    "\n",
    "\n"
   ]
  },
  {
   "cell_type": "code",
   "execution_count": 22,
   "id": "5e588883",
   "metadata": {},
   "outputs": [
    {
     "data": {
      "text/plain": [
       "array(['Defensor', 'Atacante', 'Atacante', 'Atacante', 'Atacante',\n",
       "       'Atacante', 'Atacante', 'Defensor', 'Atacante', 'Atacante',\n",
       "       'Atacante', 'Atacante', 'Defensor', 'Atacante', 'Defensor',\n",
       "       'Defensor', 'Defensor', 'Defensor', 'Defensor', 'Defensor',\n",
       "       'Atacante', 'Atacante', 'Defensor', 'Defensor', 'Atacante',\n",
       "       'Atacante', 'Defensor', 'Defensor', 'Defensor', 'Defensor'],\n",
       "      dtype=object)"
      ]
     },
     "execution_count": 22,
     "metadata": {},
     "output_type": "execute_result"
    }
   ],
   "source": [
    "previsoes_2 = classificador.predict(x_valida)\n",
    "previsoes_2"
   ]
  },
  {
   "cell_type": "code",
   "execution_count": 44,
   "id": "b53ab85c",
   "metadata": {
    "scrolled": true
   },
   "outputs": [
    {
     "data": {
      "text/html": [
       "<div>\n",
       "<style scoped>\n",
       "    .dataframe tbody tr th:only-of-type {\n",
       "        vertical-align: middle;\n",
       "    }\n",
       "\n",
       "    .dataframe tbody tr th {\n",
       "        vertical-align: top;\n",
       "    }\n",
       "\n",
       "    .dataframe thead th {\n",
       "        text-align: right;\n",
       "    }\n",
       "</style>\n",
       "<table border=\"1\" class=\"dataframe\">\n",
       "  <thead>\n",
       "    <tr style=\"text-align: right;\">\n",
       "      <th></th>\n",
       "      <th>Id</th>\n",
       "      <th>Idade</th>\n",
       "      <th>Altura</th>\n",
       "      <th>Tecnica</th>\n",
       "      <th>Passe</th>\n",
       "      <th>Chute</th>\n",
       "      <th>Forca</th>\n",
       "      <th>Velocidade</th>\n",
       "      <th>Drible</th>\n",
       "      <th>Classe</th>\n",
       "    </tr>\n",
       "  </thead>\n",
       "  <tbody>\n",
       "    <tr>\n",
       "      <th>0</th>\n",
       "      <td>201</td>\n",
       "      <td>19</td>\n",
       "      <td>186</td>\n",
       "      <td>71</td>\n",
       "      <td>67</td>\n",
       "      <td>52</td>\n",
       "      <td>77</td>\n",
       "      <td>75</td>\n",
       "      <td>65</td>\n",
       "      <td>Defensor</td>\n",
       "    </tr>\n",
       "    <tr>\n",
       "      <th>1</th>\n",
       "      <td>202</td>\n",
       "      <td>19</td>\n",
       "      <td>175</td>\n",
       "      <td>65</td>\n",
       "      <td>63</td>\n",
       "      <td>66</td>\n",
       "      <td>60</td>\n",
       "      <td>82</td>\n",
       "      <td>70</td>\n",
       "      <td>Atacante</td>\n",
       "    </tr>\n",
       "    <tr>\n",
       "      <th>2</th>\n",
       "      <td>203</td>\n",
       "      <td>20</td>\n",
       "      <td>181</td>\n",
       "      <td>64</td>\n",
       "      <td>64</td>\n",
       "      <td>67</td>\n",
       "      <td>70</td>\n",
       "      <td>67</td>\n",
       "      <td>68</td>\n",
       "      <td>Atacante</td>\n",
       "    </tr>\n",
       "    <tr>\n",
       "      <th>3</th>\n",
       "      <td>204</td>\n",
       "      <td>20</td>\n",
       "      <td>170</td>\n",
       "      <td>69</td>\n",
       "      <td>66</td>\n",
       "      <td>70</td>\n",
       "      <td>62</td>\n",
       "      <td>76</td>\n",
       "      <td>75</td>\n",
       "      <td>Atacante</td>\n",
       "    </tr>\n",
       "    <tr>\n",
       "      <th>4</th>\n",
       "      <td>205</td>\n",
       "      <td>21</td>\n",
       "      <td>176</td>\n",
       "      <td>66</td>\n",
       "      <td>61</td>\n",
       "      <td>68</td>\n",
       "      <td>65</td>\n",
       "      <td>75</td>\n",
       "      <td>72</td>\n",
       "      <td>Atacante</td>\n",
       "    </tr>\n",
       "    <tr>\n",
       "      <th>5</th>\n",
       "      <td>206</td>\n",
       "      <td>22</td>\n",
       "      <td>171</td>\n",
       "      <td>64</td>\n",
       "      <td>65</td>\n",
       "      <td>66</td>\n",
       "      <td>60</td>\n",
       "      <td>78</td>\n",
       "      <td>71</td>\n",
       "      <td>Atacante</td>\n",
       "    </tr>\n",
       "    <tr>\n",
       "      <th>6</th>\n",
       "      <td>207</td>\n",
       "      <td>22</td>\n",
       "      <td>176</td>\n",
       "      <td>70</td>\n",
       "      <td>72</td>\n",
       "      <td>70</td>\n",
       "      <td>64</td>\n",
       "      <td>77</td>\n",
       "      <td>77</td>\n",
       "      <td>Atacante</td>\n",
       "    </tr>\n",
       "    <tr>\n",
       "      <th>7</th>\n",
       "      <td>208</td>\n",
       "      <td>22</td>\n",
       "      <td>188</td>\n",
       "      <td>72</td>\n",
       "      <td>69</td>\n",
       "      <td>50</td>\n",
       "      <td>76</td>\n",
       "      <td>75</td>\n",
       "      <td>65</td>\n",
       "      <td>Defensor</td>\n",
       "    </tr>\n",
       "    <tr>\n",
       "      <th>8</th>\n",
       "      <td>209</td>\n",
       "      <td>22</td>\n",
       "      <td>180</td>\n",
       "      <td>68</td>\n",
       "      <td>74</td>\n",
       "      <td>67</td>\n",
       "      <td>71</td>\n",
       "      <td>72</td>\n",
       "      <td>71</td>\n",
       "      <td>Atacante</td>\n",
       "    </tr>\n",
       "    <tr>\n",
       "      <th>9</th>\n",
       "      <td>210</td>\n",
       "      <td>22</td>\n",
       "      <td>177</td>\n",
       "      <td>67</td>\n",
       "      <td>68</td>\n",
       "      <td>69</td>\n",
       "      <td>65</td>\n",
       "      <td>77</td>\n",
       "      <td>73</td>\n",
       "      <td>Atacante</td>\n",
       "    </tr>\n",
       "    <tr>\n",
       "      <th>10</th>\n",
       "      <td>211</td>\n",
       "      <td>23</td>\n",
       "      <td>185</td>\n",
       "      <td>77</td>\n",
       "      <td>79</td>\n",
       "      <td>65</td>\n",
       "      <td>79</td>\n",
       "      <td>75</td>\n",
       "      <td>79</td>\n",
       "      <td>Atacante</td>\n",
       "    </tr>\n",
       "    <tr>\n",
       "      <th>11</th>\n",
       "      <td>212</td>\n",
       "      <td>23</td>\n",
       "      <td>178</td>\n",
       "      <td>66</td>\n",
       "      <td>68</td>\n",
       "      <td>65</td>\n",
       "      <td>65</td>\n",
       "      <td>80</td>\n",
       "      <td>76</td>\n",
       "      <td>Atacante</td>\n",
       "    </tr>\n",
       "    <tr>\n",
       "      <th>12</th>\n",
       "      <td>213</td>\n",
       "      <td>23</td>\n",
       "      <td>180</td>\n",
       "      <td>68</td>\n",
       "      <td>65</td>\n",
       "      <td>51</td>\n",
       "      <td>77</td>\n",
       "      <td>71</td>\n",
       "      <td>61</td>\n",
       "      <td>Defensor</td>\n",
       "    </tr>\n",
       "    <tr>\n",
       "      <th>13</th>\n",
       "      <td>214</td>\n",
       "      <td>23</td>\n",
       "      <td>170</td>\n",
       "      <td>68</td>\n",
       "      <td>66</td>\n",
       "      <td>68</td>\n",
       "      <td>62</td>\n",
       "      <td>75</td>\n",
       "      <td>74</td>\n",
       "      <td>Atacante</td>\n",
       "    </tr>\n",
       "    <tr>\n",
       "      <th>14</th>\n",
       "      <td>215</td>\n",
       "      <td>24</td>\n",
       "      <td>182</td>\n",
       "      <td>79</td>\n",
       "      <td>73</td>\n",
       "      <td>58</td>\n",
       "      <td>77</td>\n",
       "      <td>77</td>\n",
       "      <td>65</td>\n",
       "      <td>Defensor</td>\n",
       "    </tr>\n",
       "    <tr>\n",
       "      <th>15</th>\n",
       "      <td>216</td>\n",
       "      <td>24</td>\n",
       "      <td>178</td>\n",
       "      <td>62</td>\n",
       "      <td>68</td>\n",
       "      <td>46</td>\n",
       "      <td>70</td>\n",
       "      <td>65</td>\n",
       "      <td>63</td>\n",
       "      <td>Defensor</td>\n",
       "    </tr>\n",
       "    <tr>\n",
       "      <th>16</th>\n",
       "      <td>217</td>\n",
       "      <td>24</td>\n",
       "      <td>189</td>\n",
       "      <td>65</td>\n",
       "      <td>65</td>\n",
       "      <td>55</td>\n",
       "      <td>70</td>\n",
       "      <td>69</td>\n",
       "      <td>58</td>\n",
       "      <td>Defensor</td>\n",
       "    </tr>\n",
       "    <tr>\n",
       "      <th>17</th>\n",
       "      <td>218</td>\n",
       "      <td>25</td>\n",
       "      <td>181</td>\n",
       "      <td>72</td>\n",
       "      <td>67</td>\n",
       "      <td>58</td>\n",
       "      <td>77</td>\n",
       "      <td>81</td>\n",
       "      <td>73</td>\n",
       "      <td>Defensor</td>\n",
       "    </tr>\n",
       "    <tr>\n",
       "      <th>18</th>\n",
       "      <td>219</td>\n",
       "      <td>25</td>\n",
       "      <td>185</td>\n",
       "      <td>69</td>\n",
       "      <td>65</td>\n",
       "      <td>58</td>\n",
       "      <td>75</td>\n",
       "      <td>72</td>\n",
       "      <td>68</td>\n",
       "      <td>Defensor</td>\n",
       "    </tr>\n",
       "    <tr>\n",
       "      <th>19</th>\n",
       "      <td>220</td>\n",
       "      <td>25</td>\n",
       "      <td>178</td>\n",
       "      <td>70</td>\n",
       "      <td>67</td>\n",
       "      <td>63</td>\n",
       "      <td>66</td>\n",
       "      <td>83</td>\n",
       "      <td>77</td>\n",
       "      <td>Defensor</td>\n",
       "    </tr>\n",
       "    <tr>\n",
       "      <th>20</th>\n",
       "      <td>221</td>\n",
       "      <td>26</td>\n",
       "      <td>174</td>\n",
       "      <td>67</td>\n",
       "      <td>64</td>\n",
       "      <td>65</td>\n",
       "      <td>66</td>\n",
       "      <td>82</td>\n",
       "      <td>70</td>\n",
       "      <td>Atacante</td>\n",
       "    </tr>\n",
       "    <tr>\n",
       "      <th>21</th>\n",
       "      <td>222</td>\n",
       "      <td>26</td>\n",
       "      <td>169</td>\n",
       "      <td>78</td>\n",
       "      <td>78</td>\n",
       "      <td>73</td>\n",
       "      <td>67</td>\n",
       "      <td>83</td>\n",
       "      <td>80</td>\n",
       "      <td>Atacante</td>\n",
       "    </tr>\n",
       "    <tr>\n",
       "      <th>22</th>\n",
       "      <td>223</td>\n",
       "      <td>27</td>\n",
       "      <td>190</td>\n",
       "      <td>70</td>\n",
       "      <td>64</td>\n",
       "      <td>58</td>\n",
       "      <td>81</td>\n",
       "      <td>74</td>\n",
       "      <td>60</td>\n",
       "      <td>Defensor</td>\n",
       "    </tr>\n",
       "    <tr>\n",
       "      <th>23</th>\n",
       "      <td>224</td>\n",
       "      <td>27</td>\n",
       "      <td>183</td>\n",
       "      <td>70</td>\n",
       "      <td>66</td>\n",
       "      <td>55</td>\n",
       "      <td>81</td>\n",
       "      <td>67</td>\n",
       "      <td>65</td>\n",
       "      <td>Defensor</td>\n",
       "    </tr>\n",
       "    <tr>\n",
       "      <th>24</th>\n",
       "      <td>225</td>\n",
       "      <td>27</td>\n",
       "      <td>184</td>\n",
       "      <td>78</td>\n",
       "      <td>68</td>\n",
       "      <td>76</td>\n",
       "      <td>68</td>\n",
       "      <td>92</td>\n",
       "      <td>83</td>\n",
       "      <td>Atacante</td>\n",
       "    </tr>\n",
       "    <tr>\n",
       "      <th>25</th>\n",
       "      <td>226</td>\n",
       "      <td>28</td>\n",
       "      <td>178</td>\n",
       "      <td>72</td>\n",
       "      <td>64</td>\n",
       "      <td>79</td>\n",
       "      <td>74</td>\n",
       "      <td>73</td>\n",
       "      <td>69</td>\n",
       "      <td>Atacante</td>\n",
       "    </tr>\n",
       "    <tr>\n",
       "      <th>26</th>\n",
       "      <td>227</td>\n",
       "      <td>31</td>\n",
       "      <td>189</td>\n",
       "      <td>70</td>\n",
       "      <td>66</td>\n",
       "      <td>59</td>\n",
       "      <td>84</td>\n",
       "      <td>71</td>\n",
       "      <td>63</td>\n",
       "      <td>Defensor</td>\n",
       "    </tr>\n",
       "    <tr>\n",
       "      <th>27</th>\n",
       "      <td>228</td>\n",
       "      <td>33</td>\n",
       "      <td>187</td>\n",
       "      <td>71</td>\n",
       "      <td>63</td>\n",
       "      <td>55</td>\n",
       "      <td>82</td>\n",
       "      <td>73</td>\n",
       "      <td>64</td>\n",
       "      <td>Defensor</td>\n",
       "    </tr>\n",
       "    <tr>\n",
       "      <th>28</th>\n",
       "      <td>229</td>\n",
       "      <td>37</td>\n",
       "      <td>188</td>\n",
       "      <td>72</td>\n",
       "      <td>63</td>\n",
       "      <td>54</td>\n",
       "      <td>84</td>\n",
       "      <td>70</td>\n",
       "      <td>60</td>\n",
       "      <td>Defensor</td>\n",
       "    </tr>\n",
       "    <tr>\n",
       "      <th>29</th>\n",
       "      <td>230</td>\n",
       "      <td>37</td>\n",
       "      <td>182</td>\n",
       "      <td>72</td>\n",
       "      <td>65</td>\n",
       "      <td>59</td>\n",
       "      <td>84</td>\n",
       "      <td>67</td>\n",
       "      <td>63</td>\n",
       "      <td>Defensor</td>\n",
       "    </tr>\n",
       "  </tbody>\n",
       "</table>\n",
       "</div>"
      ],
      "text/plain": [
       "     Id  Idade  Altura  Tecnica  Passe  Chute  Forca  Velocidade  Drible  \\\n",
       "0   201     19     186       71     67     52     77          75      65   \n",
       "1   202     19     175       65     63     66     60          82      70   \n",
       "2   203     20     181       64     64     67     70          67      68   \n",
       "3   204     20     170       69     66     70     62          76      75   \n",
       "4   205     21     176       66     61     68     65          75      72   \n",
       "5   206     22     171       64     65     66     60          78      71   \n",
       "6   207     22     176       70     72     70     64          77      77   \n",
       "7   208     22     188       72     69     50     76          75      65   \n",
       "8   209     22     180       68     74     67     71          72      71   \n",
       "9   210     22     177       67     68     69     65          77      73   \n",
       "10  211     23     185       77     79     65     79          75      79   \n",
       "11  212     23     178       66     68     65     65          80      76   \n",
       "12  213     23     180       68     65     51     77          71      61   \n",
       "13  214     23     170       68     66     68     62          75      74   \n",
       "14  215     24     182       79     73     58     77          77      65   \n",
       "15  216     24     178       62     68     46     70          65      63   \n",
       "16  217     24     189       65     65     55     70          69      58   \n",
       "17  218     25     181       72     67     58     77          81      73   \n",
       "18  219     25     185       69     65     58     75          72      68   \n",
       "19  220     25     178       70     67     63     66          83      77   \n",
       "20  221     26     174       67     64     65     66          82      70   \n",
       "21  222     26     169       78     78     73     67          83      80   \n",
       "22  223     27     190       70     64     58     81          74      60   \n",
       "23  224     27     183       70     66     55     81          67      65   \n",
       "24  225     27     184       78     68     76     68          92      83   \n",
       "25  226     28     178       72     64     79     74          73      69   \n",
       "26  227     31     189       70     66     59     84          71      63   \n",
       "27  228     33     187       71     63     55     82          73      64   \n",
       "28  229     37     188       72     63     54     84          70      60   \n",
       "29  230     37     182       72     65     59     84          67      63   \n",
       "\n",
       "      Classe  \n",
       "0   Defensor  \n",
       "1   Atacante  \n",
       "2   Atacante  \n",
       "3   Atacante  \n",
       "4   Atacante  \n",
       "5   Atacante  \n",
       "6   Atacante  \n",
       "7   Defensor  \n",
       "8   Atacante  \n",
       "9   Atacante  \n",
       "10  Atacante  \n",
       "11  Atacante  \n",
       "12  Defensor  \n",
       "13  Atacante  \n",
       "14  Defensor  \n",
       "15  Defensor  \n",
       "16  Defensor  \n",
       "17  Defensor  \n",
       "18  Defensor  \n",
       "19  Defensor  \n",
       "20  Atacante  \n",
       "21  Atacante  \n",
       "22  Defensor  \n",
       "23  Defensor  \n",
       "24  Atacante  \n",
       "25  Atacante  \n",
       "26  Defensor  \n",
       "27  Defensor  \n",
       "28  Defensor  \n",
       "29  Defensor  "
      ]
     },
     "execution_count": 44,
     "metadata": {},
     "output_type": "execute_result"
    }
   ],
   "source": [
    "base_validacao.iloc[:,9] = previsoes_2\n",
    "base_validacao"
   ]
  },
  {
   "cell_type": "code",
   "execution_count": 49,
   "id": "608fd612",
   "metadata": {},
   "outputs": [],
   "source": [
    "base_validacao.to_csv(\"respostas.csv\", sep =';', index = True)"
   ]
  },
  {
   "cell_type": "code",
   "execution_count": null,
   "id": "cc0b66ab",
   "metadata": {},
   "outputs": [],
   "source": []
  },
  {
   "cell_type": "code",
   "execution_count": null,
   "id": "942ad88c",
   "metadata": {},
   "outputs": [],
   "source": []
  }
 ],
 "metadata": {
  "kernelspec": {
   "display_name": "Python 3 (ipykernel)",
   "language": "python",
   "name": "python3"
  },
  "language_info": {
   "codemirror_mode": {
    "name": "ipython",
    "version": 3
   },
   "file_extension": ".py",
   "mimetype": "text/x-python",
   "name": "python",
   "nbconvert_exporter": "python",
   "pygments_lexer": "ipython3",
   "version": "3.10.2"
  }
 },
 "nbformat": 4,
 "nbformat_minor": 5
}
